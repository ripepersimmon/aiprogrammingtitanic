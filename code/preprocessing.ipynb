{
 "cells": [
  {
   "cell_type": "code",
   "execution_count": 2,
   "metadata": {},
   "outputs": [],
   "source": [
    "import numpy as np\n",
    "import pandas as pd\n",
    "from sklearn.preprocessing import LabelEncoder"
   ]
  },
  {
   "cell_type": "code",
   "execution_count": 3,
   "metadata": {},
   "outputs": [
    {
     "name": "stdout",
     "output_type": "stream",
     "text": [
      "   PassengerId  Survived  Pclass  \\\n",
      "0            1         0       3   \n",
      "1            2         1       1   \n",
      "2            3         1       3   \n",
      "3            4         1       1   \n",
      "4            5         0       3   \n",
      "\n",
      "                                                Name  Sex   Age  SibSp  Parch  \\\n",
      "0                            Braund, Mr. Owen Harris    1  22.0      1      0   \n",
      "1  Cumings, Mrs. John Bradley (Florence Briggs Th...    0  38.0      1      0   \n",
      "2                             Heikkinen, Miss. Laina    0  26.0      0      0   \n",
      "3       Futrelle, Mrs. Jacques Heath (Lily May Peel)    0  35.0      1      0   \n",
      "4                           Allen, Mr. William Henry    1  35.0      0      0   \n",
      "\n",
      "             Ticket     Fare  Cabin  Embarked  \n",
      "0         A/5 21171   7.2500    147         2  \n",
      "1          PC 17599  71.2833     81         0  \n",
      "2  STON/O2. 3101282   7.9250    147         2  \n",
      "3            113803  53.1000     55         2  \n",
      "4            373450   8.0500    147         2  \n",
      "   PassengerId  Pclass                                          Name  Sex  \\\n",
      "0          892       3                              Kelly, Mr. James    1   \n",
      "1          893       3              Wilkes, Mrs. James (Ellen Needs)    0   \n",
      "2          894       2                     Myles, Mr. Thomas Francis    1   \n",
      "3          895       3                              Wirz, Mr. Albert    1   \n",
      "4          896       3  Hirvonen, Mrs. Alexander (Helga E Lindqvist)    0   \n",
      "\n",
      "    Age  SibSp  Parch   Ticket     Fare  Cabin  Embarked  \n",
      "0  34.5      0      0   330911   7.8292     76         1  \n",
      "1  47.0      1      0   363272   7.0000     76         2  \n",
      "2  62.0      0      0   240276   9.6875     76         1  \n",
      "3  27.0      0      0   315154   8.6625     76         2  \n",
      "4  22.0      1      1  3101298  12.2875     76         2  \n"
     ]
    }
   ],
   "source": [
    "##3.1. 데이터 전처리\n",
    "train_data = pd.read_csv(\"/workspaces/aiprogrammingtitanic/data/train.csv\")\n",
    "test_data = pd.read_csv(\"/workspaces/aiprogrammingtitanic/data/test.csv\")\n",
    "\n",
    "#범주형데이터의 처리\n",
    "le = LabelEncoder()\n",
    "train_data['Cabin'] = le.fit_transform(train_data['Cabin'])\n",
    "train_data['Embarked'] = le.fit_transform(train_data['Embarked'])\n",
    "test_data['Cabin'] = le.fit_transform(test_data['Cabin'])\n",
    "test_data['Embarked'] = le.fit_transform(test_data['Embarked'])\n",
    "train_data['Sex'] = le.fit_transform(train_data['Sex'])\n",
    "test_data['Sex'] = le.fit_transform(test_data['Sex'])\n",
    "## 범주형데이터 처리 완료\n",
    "#(참고: https://teddylee777.github.io/scikit-learn/labelencoder-%EC%82%AC%EC%9A%A9%EB%B2%95/)\n",
    "\n",
    "#결측치 확인\n",
    "#print(train_data.isnull().sum())\n",
    "#print(test_data.isnull().sum())\n",
    "\n",
    "#중앙값으로 결측치 대체하기\n",
    "train_data = train_data.fillna(train_data.median(numeric_only=True)) #오류가 계속 나서 LLM 사용해서 numeric_only=True 넣었습니다.\n",
    "test_data = test_data.fillna(test_data.median(numeric_only=True))\n",
    "\n",
    "#결측치 확인2\n",
    "#print(train_data.isnull().sum())\n",
    "#print(test_data.isnull().sum())\n",
    "\n",
    "## 결측치 해결\n",
    "\n",
    "print(train_data.head())\n",
    "print(test_data.head())"
   ]
  },
  {
   "cell_type": "code",
   "execution_count": 4,
   "metadata": {},
   "outputs": [],
   "source": [
    "train_data.to_csv('/workspaces/aiprogrammingtitanic/data/train_data.csv')\n",
    "test_data.to_csv('/workspaces/aiprogrammingtitanic/data/test_data.csv')"
   ]
  }
 ],
 "metadata": {
  "kernelspec": {
   "display_name": "Python 3",
   "language": "python",
   "name": "python3"
  },
  "language_info": {
   "codemirror_mode": {
    "name": "ipython",
    "version": 3
   },
   "file_extension": ".py",
   "mimetype": "text/x-python",
   "name": "python",
   "nbconvert_exporter": "python",
   "pygments_lexer": "ipython3",
   "version": "3.12.1"
  }
 },
 "nbformat": 4,
 "nbformat_minor": 2
}
