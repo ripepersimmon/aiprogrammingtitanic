{
 "cells": [
  {
   "cell_type": "code",
   "execution_count": 47,
   "metadata": {},
   "outputs": [],
   "source": [
    "import numpy as np\n",
    "import pandas as pd\n",
    "from sklearn.preprocessing import LabelEncoder\n",
    "from sklearn.model_selection import train_test_split"
   ]
  },
  {
   "cell_type": "code",
   "execution_count": 52,
   "metadata": {},
   "outputs": [],
   "source": [
    "##3.1. 데이터 전처리\n",
    "train_data = pd.read_csv(\"/workspaces/aiprogrammingtitanic/data/train.csv\")\n",
    "test_data = pd.read_csv(\"/workspaces/aiprogrammingtitanic/data/test.csv\")\n",
    "\n",
    "#범주형데이터의 처리\n",
    "le = LabelEncoder()\n",
    "train_data['Cabin'] = le.fit_transform(train_data['Cabin'])\n",
    "train_data['Embarked'] = le.fit_transform(train_data['Embarked'])\n",
    "test_data['Cabin'] = le.fit_transform(test_data['Cabin'])\n",
    "train_data['Sex'] = le.fit_transform(train_data['Sex'])\n",
    "test_data['Sex'] = le.fit_transform(test_data['Sex'])\n",
    "## 범주형데이터 처리 완료\n",
    "#(참고: https://teddylee777.github.io/scikit-learn/labelencoder-%EC%82%AC%EC%9A%A9%EB%B2%95/)\n",
    "\n",
    "#결측치 확인\n",
    "#print(train_data.isnull().sum())\n",
    "#print(test_data.isnull().sum())\n",
    "\n",
    "#중앙값으로 결측치 대체하기\n",
    "train_data = train_data.fillna(train_data.median(numeric_only=True)) #오류가 계속 나서 LLM 사용해서 numeric_only=True 넣었습니다.\n",
    "test_data = test_data.fillna(test_data.median(numeric_only=True))\n",
    "\n",
    "#결측치 확인2\n",
    "#print(train_data.isnull().sum())\n",
    "#print(test_data.isnull().sum())\n",
    "\n",
    "## 결측치 해결\n",
    "\n",
    "## train.csv 를 8:2로 나누어 validation 데이터셋 만들기 \n",
    "#(참고: https://scikit-learn.org/dev/modules/generated/sklearn.model_selection.train_test_split.html#)\n",
    "\n",
    "training, validation = train_test_split(train_data, test_size=0.2, random_state=202300698)"
   ]
  },
  {
   "cell_type": "code",
   "execution_count": 53,
   "metadata": {},
   "outputs": [],
   "source": [
    "training.to_csv('/workspaces/aiprogrammingtitanic/data/training.csv')\n",
    "validation.to_csv('/workspaces/aiprogrammingtitanic/data/validation.csv')\n",
    "test_data.to_csv('/workspaces/aiprogrammingtitanic/data/test_data.csv')"
   ]
  }
 ],
 "metadata": {
  "kernelspec": {
   "display_name": "Python 3",
   "language": "python",
   "name": "python3"
  },
  "language_info": {
   "codemirror_mode": {
    "name": "ipython",
    "version": 3
   },
   "file_extension": ".py",
   "mimetype": "text/x-python",
   "name": "python",
   "nbconvert_exporter": "python",
   "pygments_lexer": "ipython3",
   "version": "3.12.1"
  }
 },
 "nbformat": 4,
 "nbformat_minor": 2
}
