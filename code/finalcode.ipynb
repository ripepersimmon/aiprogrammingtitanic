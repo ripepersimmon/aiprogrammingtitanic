{
 "cells": [
  {
   "cell_type": "code",
   "execution_count": 1,
   "metadata": {},
   "outputs": [],
   "source": [
    "import numpy as np\n",
    "import pandas as pd\n",
    "from sklearn.preprocessing import LabelEncoder\n",
    "from sklearn.model_selection import train_test_split\n",
    "from sklearn.metrics import accuracy_score, precision_score, recall_score, f1_score, confusion_matrix\n",
    "from sklearn.tree import DecisionTreeClassifier\n",
    "from sklearn.svm import SVC\n",
    "from sklearn.ensemble import RandomForestClassifier\n",
    "from sklearn.linear_model import LogisticRegression"
   ]
  },
  {
   "cell_type": "code",
   "execution_count": 2,
   "metadata": {},
   "outputs": [
    {
     "name": "stdout",
     "output_type": "stream",
     "text": [
      "   PassengerId  Survived  Pclass  \\\n",
      "0            1         0       3   \n",
      "1            2         1       1   \n",
      "2            3         1       3   \n",
      "3            4         1       1   \n",
      "4            5         0       3   \n",
      "\n",
      "                                                Name  Sex   Age  SibSp  Parch  \\\n",
      "0                            Braund, Mr. Owen Harris    1  22.0      1      0   \n",
      "1  Cumings, Mrs. John Bradley (Florence Briggs Th...    0  38.0      1      0   \n",
      "2                             Heikkinen, Miss. Laina    0  26.0      0      0   \n",
      "3       Futrelle, Mrs. Jacques Heath (Lily May Peel)    0  35.0      1      0   \n",
      "4                           Allen, Mr. William Henry    1  35.0      0      0   \n",
      "\n",
      "             Ticket     Fare  Cabin  Embarked  \n",
      "0         A/5 21171   7.2500    147         2  \n",
      "1          PC 17599  71.2833     81         0  \n",
      "2  STON/O2. 3101282   7.9250    147         2  \n",
      "3            113803  53.1000     55         2  \n",
      "4            373450   8.0500    147         2  \n",
      "   PassengerId  Pclass                                          Name  Sex  \\\n",
      "0          892       3                              Kelly, Mr. James    1   \n",
      "1          893       3              Wilkes, Mrs. James (Ellen Needs)    0   \n",
      "2          894       2                     Myles, Mr. Thomas Francis    1   \n",
      "3          895       3                              Wirz, Mr. Albert    1   \n",
      "4          896       3  Hirvonen, Mrs. Alexander (Helga E Lindqvist)    0   \n",
      "\n",
      "    Age  SibSp  Parch   Ticket     Fare  Cabin  Embarked  \n",
      "0  34.5      0      0   330911   7.8292     76         1  \n",
      "1  47.0      1      0   363272   7.0000     76         2  \n",
      "2  62.0      0      0   240276   9.6875     76         1  \n",
      "3  27.0      0      0   315154   8.6625     76         2  \n",
      "4  22.0      1      1  3101298  12.2875     76         2  \n"
     ]
    }
   ],
   "source": [
    "##3.1. 데이터 전처리\n",
    "train_data = pd.read_csv(\"/workspaces/aiprogrammingtitanic/data/train.csv\")\n",
    "test_data = pd.read_csv(\"/workspaces/aiprogrammingtitanic/data/test.csv\")\n",
    "\n",
    "#범주형데이터의 처리\n",
    "le = LabelEncoder()\n",
    "train_data['Cabin'] = le.fit_transform(train_data['Cabin'])\n",
    "train_data['Embarked'] = le.fit_transform(train_data['Embarked'])\n",
    "test_data['Cabin'] = le.fit_transform(test_data['Cabin'])\n",
    "test_data['Embarked'] = le.fit_transform(test_data['Embarked'])\n",
    "train_data['Sex'] = le.fit_transform(train_data['Sex'])\n",
    "test_data['Sex'] = le.fit_transform(test_data['Sex'])\n",
    "## 범주형데이터 처리 완료\n",
    "#(참고: https://teddylee777.github.io/scikit-learn/labelencoder-%EC%82%AC%EC%9A%A9%EB%B2%95/)\n",
    "\n",
    "#결측치 확인\n",
    "#print(train_data.isnull().sum())\n",
    "#print(test_data.isnull().sum())\n",
    "\n",
    "#중앙값으로 결측치 대체하기\n",
    "train_data = train_data.fillna(train_data.median(numeric_only=True)) #오류가 계속 나서 LLM 사용해서 numeric_only=True 넣었습니다.\n",
    "test_data = test_data.fillna(test_data.median(numeric_only=True))\n",
    "\n",
    "#결측치 확인2\n",
    "#print(train_data.isnull().sum())\n",
    "#print(test_data.isnull().sum())\n",
    "\n",
    "## 결측치 해결\n",
    "\n",
    "print(train_data.head())\n",
    "print(test_data.head())"
   ]
  },
  {
   "cell_type": "code",
   "execution_count": 3,
   "metadata": {},
   "outputs": [],
   "source": [
    "train_data.to_csv('/workspaces/aiprogrammingtitanic/data/train_data.csv')\n",
    "test_data.to_csv('/workspaces/aiprogrammingtitanic/data/test_data.csv')"
   ]
  },
  {
   "cell_type": "code",
   "execution_count": 4,
   "metadata": {},
   "outputs": [],
   "source": [
    "train_df = pd.read_csv('/workspaces/aiprogrammingtitanic/data/train_data.csv', index_col = 'PassengerId')\n",
    "test_df = pd.read_csv('/workspaces/aiprogrammingtitanic/data/test_data.csv', index_col = 'PassengerId')\n",
    "\n",
    "filter = ['Pclass', 'Sex', 'Age', 'SibSp', 'Parch', 'Fare', 'Embarked']\n",
    "\n",
    "X = train_df[filter]\n",
    "y = train_df['Survived']\n",
    "X_test = test_df[filter]\n",
    "\n",
    "# train 데이터를 8:2로 나누어 validation 데이터 생성\n",
    "X_train, X_val, y_train, y_val = train_test_split(X, y, test_size=0.2, random_state=202300698) #시드 202300698는 제 학번입니다"
   ]
  },
  {
   "cell_type": "code",
   "execution_count": 5,
   "metadata": {},
   "outputs": [
    {
     "name": "stdout",
     "output_type": "stream",
     "text": [
      "\"Decision Tree\"\n",
      "Confusion Matrix:\n",
      "[[80 23]\n",
      " [27 49]]\n",
      "Accuracy: 0.7207\n",
      "Precision: 0.6806\n",
      "Recall: 0.6447\n",
      "F1 Score: 0.6622\n"
     ]
    }
   ],
   "source": [
    "##Decision tree\n",
    "\n",
    "dt_model = DecisionTreeClassifier(random_state=202300698)\n",
    "dt_model.fit(X_train, y_train)\n",
    "dt_y_pred = dt_model.predict(X_val)\n",
    "\n",
    "# 성능 평가\n",
    "dt_accuracy = accuracy_score(y_val, dt_y_pred)\n",
    "dt_precision = precision_score(y_val, dt_y_pred)\n",
    "dt_recall = recall_score(y_val, dt_y_pred)\n",
    "dt_f1_score = f1_score(y_val, dt_y_pred)\n",
    "dt_conf_matrix = confusion_matrix(y_val, dt_y_pred)\n",
    "\n",
    "# 혼동 행렬\n",
    "print(\"\\\"Decision Tree\\\"\\nConfusion Matrix:\")\n",
    "print(dt_conf_matrix)\n",
    "print(f'Accuracy: {dt_accuracy:.4f}')\n",
    "print(f'Precision: {dt_precision:.4f}')\n",
    "print(f'Recall: {dt_recall:.4f}')\n",
    "print(f'F1 Score: {dt_f1_score:.4f}')"
   ]
  },
  {
   "cell_type": "code",
   "execution_count": 6,
   "metadata": {},
   "outputs": [
    {
     "name": "stdout",
     "output_type": "stream",
     "text": [
      "\"Support Vector Machine\"\n",
      "Confusion Matrix:\n",
      "[[97  6]\n",
      " [59 17]]\n",
      "Accuracy: 0.6369\n",
      "Precision: 0.7391\n",
      "Recall: 0.2237\n",
      "F1 Score: 0.3434\n"
     ]
    }
   ],
   "source": [
    "##Support Vector Machine\n",
    "\n",
    "svm_model = SVC(random_state= 202300698)\n",
    "svm_model.fit(X_train, y_train)\n",
    "svm_y_pred = svm_model.predict(X_val)\n",
    "\n",
    "# 성능 평가\n",
    "svm_accuracy = accuracy_score(y_val, svm_y_pred)\n",
    "svm_precision = precision_score(y_val, svm_y_pred)\n",
    "svm_recall = recall_score(y_val, svm_y_pred)\n",
    "svm_f1_score = f1_score(y_val, svm_y_pred)\n",
    "svm_conf_matrix = confusion_matrix(y_val, svm_y_pred)\n",
    "\n",
    "# 혼동 행렬\n",
    "print(\"\\\"Support Vector Machine\\\"\\nConfusion Matrix:\")\n",
    "print(svm_conf_matrix)\n",
    "print(f'Accuracy: {svm_accuracy:.4f}')\n",
    "print(f'Precision: {svm_precision:.4f}')\n",
    "print(f'Recall: {svm_recall:.4f}')\n",
    "print(f'F1 Score: {svm_f1_score:.4f}')"
   ]
  },
  {
   "cell_type": "code",
   "execution_count": 7,
   "metadata": {},
   "outputs": [
    {
     "name": "stdout",
     "output_type": "stream",
     "text": [
      "\"Random Forest\"\n",
      "Confusion Matrix:\n",
      "[[83 20]\n",
      " [22 54]]\n",
      "Accuracy: 0.7654\n",
      "Precision: 0.7297\n",
      "Recall: 0.7105\n",
      "F1 Score: 0.7200\n"
     ]
    }
   ],
   "source": [
    "##Random Forest\n",
    "\n",
    "rf_model = RandomForestClassifier(random_state=202300698)\n",
    "rf_model.fit(X_train, y_train)\n",
    "\n",
    "# 모델 예측\n",
    "rf_y_pred = rf_model.predict(X_val)\n",
    "\n",
    "# 성능 평가\n",
    "rf_accuracy = accuracy_score(y_val, rf_y_pred)\n",
    "rf_precision = precision_score(y_val, rf_y_pred)\n",
    "rf_recall = recall_score(y_val, rf_y_pred)\n",
    "rf_f1_score = f1_score(y_val, rf_y_pred)\n",
    "rf_conf_matrix = confusion_matrix(y_val, rf_y_pred)\n",
    "\n",
    "# 혼동 행렬\n",
    "print(\"\\\"Random Forest\\\"\\nConfusion Matrix:\")\n",
    "print(rf_conf_matrix)\n",
    "print(f'Accuracy: {rf_accuracy:.4f}')\n",
    "print(f'Precision: {rf_precision:.4f}')\n",
    "print(f'Recall: {rf_recall:.4f}')\n",
    "print(f'F1 Score: {rf_f1_score:.4f}')"
   ]
  },
  {
   "cell_type": "code",
   "execution_count": 13,
   "metadata": {},
   "outputs": [
    {
     "name": "stdout",
     "output_type": "stream",
     "text": [
      "\"Logistic Regression\"\n",
      "Confusion Matrix:\n",
      "[[88 15]\n",
      " [26 50]]\n",
      "Accuracy: 0.7709\n",
      "Precision: 0.7692\n",
      "Recall: 0.6579\n",
      "F1 Score: 0.7092\n"
     ]
    }
   ],
   "source": [
    "## Logistic Regression\n",
    "lr_model = LogisticRegression(random_state=202300698, max_iter = 500)\n",
    "#Increase the number of iterations (max_iter) or scale the data as shown in: 메시지가 떠서 max_iter = 500을 추가했습니다.\n",
    "lr_model.fit(X_train, y_train)\n",
    "\n",
    "# 모델 예측\n",
    "lr_y_pred = lr_model.predict(X_val)\n",
    "\n",
    "# 성능 평가\n",
    "lr_accuracy = accuracy_score(y_val, lr_y_pred)\n",
    "lr_precision = precision_score(y_val, lr_y_pred)\n",
    "lr_recall = recall_score(y_val, lr_y_pred)\n",
    "lr_f1_score = f1_score(y_val, lr_y_pred)\n",
    "lr_conf_matrix = confusion_matrix(y_val, lr_y_pred)\n",
    "\n",
    "# 혼동 행렬\n",
    "print(\"\\\"Logistic Regression\\\"\\nConfusion Matrix:\")\n",
    "print(lr_conf_matrix)\n",
    "print(f'Accuracy: {lr_accuracy:.4f}')\n",
    "print(f'Precision: {lr_precision:.4f}')\n",
    "print(f'Recall: {lr_recall:.4f}')\n",
    "print(f'F1 Score: {lr_f1_score:.4f}')"
   ]
  }
 ],
 "metadata": {
  "kernelspec": {
   "display_name": "Python 3",
   "language": "python",
   "name": "python3"
  },
  "language_info": {
   "codemirror_mode": {
    "name": "ipython",
    "version": 3
   },
   "file_extension": ".py",
   "mimetype": "text/x-python",
   "name": "python",
   "nbconvert_exporter": "python",
   "pygments_lexer": "ipython3",
   "version": "3.12.1"
  }
 },
 "nbformat": 4,
 "nbformat_minor": 2
}
